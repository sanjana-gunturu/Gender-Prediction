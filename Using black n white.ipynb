{
 "cells": [
  {
   "cell_type": "code",
   "execution_count": 1,
   "id": "c38ab6ab",
   "metadata": {},
   "outputs": [],
   "source": [
    "import cv2\n",
    "import os\n",
    "import numpy as np\n",
    "import pandas as pd\n",
    "# os.mkdir('D:/MLCBP/bnwF')\n",
    "input_dir = 'D:/MLCBP/resizedF'\n",
    "output_dir = 'D:/MLCBP/bnwF'\n",
    "\n",
    "threshold_value = 128\n",
    "max_value = 255\n",
    "\n",
    "for i, filename in enumerate(os.listdir(input_dir)):\n",
    "    image_path = os.path.join(input_dir, filename)\n",
    "    image = cv2.imread(image_path)\n",
    "    grayscale = cv2.cvtColor(image, cv2.COLOR_BGR2GRAY)\n",
    "#     grayscale = cv2.normalize(image, None, 0, 255, cv2.NORM_MINMAX, cv2.CV_8UC1)\n",
    "#     print(grayscale)\n",
    "    _, binary = cv2.threshold(grayscale, threshold_value, max_value, cv2.THRESH_BINARY)\n",
    "    binary[binary < 0] = 0\n",
    "    basename = os.path.splitext(filename)[0]\n",
    "    binary_filename = f'{basename}_binary.jpg'\n",
    "    binary_path = os.path.join(output_dir, binary_filename)\n",
    "    cv2.imwrite(binary_path, binary)\n"
   ]
  },
  {
   "cell_type": "code",
   "execution_count": 2,
   "id": "5df12e63",
   "metadata": {},
   "outputs": [],
   "source": [
    "import cv2\n",
    "import os\n",
    "# os.mkdir('D:/MLCBP/bnwM')\n",
    "input_dir = 'D:/MLCBP/resizedM'\n",
    "output_dir = 'D:/MLCBP/bnwM'\n",
    "\n",
    "threshold_value = 128\n",
    "max_value = 255\n",
    "\n",
    "for i, filename in enumerate(os.listdir(input_dir)):\n",
    "    image_path = os.path.join(input_dir, filename)\n",
    "    image = cv2.imread(image_path)\n",
    "    grayscale = cv2.cvtColor(image, cv2.COLOR_BGR2GRAY)\n",
    "#     grayscale = cv2.normalize(image, None, 0, 255, cv2.NORM_MINMAX, cv2.CV_8UC1)\n",
    "    _, binary = cv2.threshold(grayscale, threshold_value, max_value, cv2.THRESH_BINARY)\n",
    "    binary[binary < 0] = 0\n",
    "    basename = os.path.splitext(filename)[0]\n",
    "    binary_filename = f'{basename}_binary.jpg'\n",
    "    binary_path = os.path.join(output_dir, binary_filename)\n",
    "    cv2.imwrite(binary_path, binary)\n",
    "    "
   ]
  },
  {
   "cell_type": "code",
   "execution_count": 3,
   "id": "51d4fca3",
   "metadata": {},
   "outputs": [
    {
     "name": "stdout",
     "output_type": "stream",
     "text": [
      "Successfully saved CSV file D:/MLCBP\\bnw.csv\n"
     ]
    }
   ],
   "source": [
    "input_dir1= 'D:/MLCBP/bnwF'\n",
    "input_dir2= 'D:/MLCBP/bnwM'\n",
    "outputdir = 'D:/MLCBP'\n",
    "data = []\n",
    "for i, filename in enumerate(os.listdir(input_dir1)):\n",
    "    image_path = os.path.join(input_dir1, filename)\n",
    "    image = cv2.imread(image_path)\n",
    "    grayscale = cv2.cvtColor(image, cv2.COLOR_BGR2GRAY)\n",
    "    _, binary = cv2.threshold(grayscale, threshold_value, max_value, cv2.THRESH_BINARY)\n",
    "    binary = binary.astype(int)\n",
    "    binary[binary < 0] = 0\n",
    "    flat_binary = binary.reshape(784,)\n",
    "    data.append(flat_binary)\n",
    "for i, filename in enumerate(os.listdir(input_dir2)):\n",
    "    image_path = os.path.join(input_dir2, filename)\n",
    "    image = cv2.imread(image_path)\n",
    "    grayscale = cv2.cvtColor(image, cv2.COLOR_BGR2GRAY)\n",
    "    _, binary = cv2.threshold(grayscale, threshold_value, max_value, cv2.THRESH_BINARY)\n",
    "    binary = binary.astype(int)\n",
    "    binary[binary < 0] = 0\n",
    "    flat_binary = binary.reshape(784,)\n",
    "    data.append(flat_binary)\n",
    "\n",
    "df = pd.DataFrame(data)\n",
    "\n",
    "csv_path = os.path.join(outputdir, 'bnw.csv')\n",
    "df.to_csv(csv_path, index=False)\n",
    "\n",
    "if not os.path.exists(csv_path):\n",
    "    print(f'Error: Failed to save CSV file {csv_path}')\n",
    "else:\n",
    "    print(f'Successfully saved CSV file {csv_path}')\n"
   ]
  },
  {
   "cell_type": "code",
   "execution_count": 4,
   "id": "ace25358",
   "metadata": {},
   "outputs": [],
   "source": [
    "import numpy as np\n",
    "import pandas as pd\n",
    "import matplotlib.pyplot as plt\n",
    "from sklearn.tree import DecisionTreeClassifier\n",
    "from sklearn.model_selection import train_test_split\n",
    "from sklearn.metrics import accuracy_score\n",
    "from sklearn.neighbors import KNeighborsClassifier\n",
    "from sklearn.linear_model import LogisticRegression"
   ]
  },
  {
   "cell_type": "code",
   "execution_count": 5,
   "id": "db577ac9",
   "metadata": {},
   "outputs": [],
   "source": [
    "df=pd.read_csv(\"bnw.csv\")"
   ]
  },
  {
   "cell_type": "code",
   "execution_count": 6,
   "id": "930159d5",
   "metadata": {},
   "outputs": [],
   "source": [
    "X=df.iloc[:,:-1]\n",
    "Y=df.iloc[:,-1]"
   ]
  },
  {
   "cell_type": "markdown",
   "id": "0e01e256",
   "metadata": {},
   "source": [
    "# TEST DATA"
   ]
  },
  {
   "cell_type": "code",
   "execution_count": 7,
   "id": "4fbbc0c7",
   "metadata": {},
   "outputs": [],
   "source": [
    "import cv2\n",
    "import glob\n",
    "import os\n",
    "images_path=glob.glob('D:/MLCBP/testbnw/Female/*.jpeg')\n",
    "# os.mkdir('D:/MLCBP/testbnw/Female/grayscale')\n",
    "i=0\n",
    "for image in images_path:\n",
    "    gray_images=cv2.imread(image,cv2.IMREAD_GRAYSCALE)\n",
    "    cv2.imwrite('D:/MLCBP/testbnw/Female/grayscale/image%02i.jpeg' %i, gray_images)\n",
    "    i+=1"
   ]
  },
  {
   "cell_type": "code",
   "execution_count": 8,
   "id": "5612b039",
   "metadata": {},
   "outputs": [],
   "source": [
    "import cv2\n",
    "import glob\n",
    "import os\n",
    "images_path=glob.glob('D:/MLCBP/testbnw/Male/*.jpeg')\n",
    "# os.mkdir('D:/MLCBP/testbnw/Male/grayscale')\n",
    "i=0\n",
    "for image in images_path:\n",
    "    gray_images=cv2.imread(image,cv2.IMREAD_GRAYSCALE)\n",
    "    cv2.imwrite('D:/MLCBP/testbnw/Male/grayscale/image%02i.jpeg' %i, gray_images)\n",
    "    i+=1"
   ]
  },
  {
   "cell_type": "code",
   "execution_count": 9,
   "id": "840a2fb5",
   "metadata": {},
   "outputs": [],
   "source": [
    "import cv2\n",
    "import glob\n",
    "import os\n",
    "inputFolder='D:/MLCBP/testbnw/Female/grayscale'\n",
    "# os.mkdir('D:/MLCBP/testbnw/resizedF')\n",
    "\n",
    "i=0\n",
    "for img in glob.glob(inputFolder + \"/*.jpeg\"):\n",
    "    image=cv2.imread(img)\n",
    "    imgResized=cv2.resize(image,(28,28))\n",
    "    cv2.imwrite(\"D:/MLCBP/testbnw/resizedF/image%04i.jpeg\" %i,imgResized)\n",
    "    i+=1"
   ]
  },
  {
   "cell_type": "code",
   "execution_count": 10,
   "id": "0f0ef089",
   "metadata": {},
   "outputs": [],
   "source": [
    "import cv2\n",
    "import glob\n",
    "import os\n",
    "inputFolder='D:/MLCBP/testbnw/Male/grayscale'\n",
    "# os.mkdir('D:/MLCBP/testbnw/resizedM')\n",
    "\n",
    "i=0\n",
    "for img in glob.glob(inputFolder + \"/*.jpeg\"):\n",
    "    image=cv2.imread(img)\n",
    "    imgResized=cv2.resize(image,(28,28))\n",
    "    cv2.imwrite(\"D:/MLCBP/testbnw/resizedM/image%04i.jpeg\" %i,imgResized)\n",
    "    i+=1"
   ]
  },
  {
   "cell_type": "code",
   "execution_count": 11,
   "id": "cc54e39b",
   "metadata": {},
   "outputs": [],
   "source": [
    "import cv2\n",
    "import os\n",
    "import numpy as np\n",
    "import pandas as pd\n",
    "# os.mkdir('D:/MLCBP/testbnw/bnwF')\n",
    "input_dir = 'D:/MLCBP/testbnw/resizedF'\n",
    "output_dir = 'D:/MLCBP/testbnw/bnwF'\n",
    "\n",
    "threshold_value = 128\n",
    "max_value = 255\n",
    "\n",
    "for i, filename in enumerate(os.listdir(input_dir)):\n",
    "    image_path = os.path.join(input_dir, filename)\n",
    "    image = cv2.imread(image_path)\n",
    "    grayscale = cv2.cvtColor(image, cv2.COLOR_BGR2GRAY)\n",
    "#     grayscale = cv2.normalize(image, None, 0, 255, cv2.NORM_MINMAX, cv2.CV_8UC1)\n",
    "#     print(grayscale)\n",
    "    _, binary = cv2.threshold(grayscale, threshold_value, max_value, cv2.THRESH_BINARY)\n",
    "    binary[binary < 0] = 0\n",
    "    basename = os.path.splitext(filename)[0]\n",
    "    binary_filename = f'{basename}_binary.jpg'\n",
    "    binary_path = os.path.join(output_dir, binary_filename)\n",
    "    cv2.imwrite(binary_path, binary)\n"
   ]
  },
  {
   "cell_type": "code",
   "execution_count": 12,
   "id": "b533a9f7",
   "metadata": {},
   "outputs": [],
   "source": [
    "import cv2\n",
    "import os\n",
    "import numpy as np\n",
    "import pandas as pd\n",
    "# os.mkdir('D:/MLCBP/testbnw/bnwM')\n",
    "input_dir = 'D:/MLCBP/testbnw/resizedM'\n",
    "output_dir = 'D:/MLCBP/testbnw/bnwM'\n",
    "\n",
    "threshold_value = 128\n",
    "max_value = 255\n",
    "\n",
    "for i, filename in enumerate(os.listdir(input_dir)):\n",
    "    image_path = os.path.join(input_dir, filename)\n",
    "    image = cv2.imread(image_path)\n",
    "    grayscale = cv2.cvtColor(image, cv2.COLOR_BGR2GRAY)\n",
    "#     grayscale = cv2.normalize(image, None, 0, 255, cv2.NORM_MINMAX, cv2.CV_8UC1)\n",
    "#     print(grayscale)\n",
    "    _, binary = cv2.threshold(grayscale, threshold_value, max_value, cv2.THRESH_BINARY)\n",
    "    binary[binary < 0] = 0\n",
    "    basename = os.path.splitext(filename)[0]\n",
    "    binary_filename = f'{basename}_binary.jpg'\n",
    "    binary_path = os.path.join(output_dir, binary_filename)\n",
    "    cv2.imwrite(binary_path, binary)\n"
   ]
  },
  {
   "cell_type": "code",
   "execution_count": 13,
   "id": "359ec4b0",
   "metadata": {},
   "outputs": [
    {
     "name": "stdout",
     "output_type": "stream",
     "text": [
      "Successfully saved CSV file D:/MLCBP\\bnwtest.csv\n"
     ]
    }
   ],
   "source": [
    "input_dir1= 'D:/MLCBP/testbnw/bnwF'\n",
    "input_dir2= 'D:/MLCBP/testbnw/bnwM'\n",
    "outputdir = 'D:/MLCBP'\n",
    "data = []\n",
    "for i, filename in enumerate(os.listdir(input_dir1)):\n",
    "    image_path = os.path.join(input_dir1, filename)\n",
    "    image = cv2.imread(image_path)\n",
    "    grayscale = cv2.cvtColor(image, cv2.COLOR_BGR2GRAY)\n",
    "    _, binary = cv2.threshold(grayscale, threshold_value, max_value, cv2.THRESH_BINARY)\n",
    "    binary = binary.astype(int)\n",
    "    binary[binary < 0] = 0\n",
    "    flat_binary = binary.reshape(784,)\n",
    "    data.append(flat_binary)\n",
    "for i, filename in enumerate(os.listdir(input_dir2)):\n",
    "    image_path = os.path.join(input_dir2, filename)\n",
    "    image = cv2.imread(image_path)\n",
    "    grayscale = cv2.cvtColor(image, cv2.COLOR_BGR2GRAY)\n",
    "    _, binary = cv2.threshold(grayscale, threshold_value, max_value, cv2.THRESH_BINARY)\n",
    "    binary = binary.astype(int)\n",
    "    binary[binary < 0] = 0\n",
    "    flat_binary = binary.reshape(784,)\n",
    "    data.append(flat_binary)\n",
    "\n",
    "d = pd.DataFrame(data)\n",
    "\n",
    "csv_path = os.path.join(outputdir, 'bnwtest.csv')\n",
    "d.to_csv(csv_path, index=False)\n",
    "\n",
    "if not os.path.exists(csv_path):\n",
    "    print(f'Error: Failed to save CSV file {csv_path}')\n",
    "else:\n",
    "    print(f'Successfully saved CSV file {csv_path}')\n"
   ]
  },
  {
   "cell_type": "code",
   "execution_count": 14,
   "id": "5a7eec59",
   "metadata": {},
   "outputs": [],
   "source": [
    "d=pd.read_csv(\"bnwtest.csv\")"
   ]
  },
  {
   "cell_type": "code",
   "execution_count": 15,
   "id": "668f434a",
   "metadata": {},
   "outputs": [],
   "source": [
    "X_test=d.iloc[:,:-1]\n",
    "y_test=d.iloc[:,-1]"
   ]
  },
  {
   "cell_type": "code",
   "execution_count": 16,
   "id": "de9e6587",
   "metadata": {},
   "outputs": [],
   "source": [
    "model=DecisionTreeClassifier()"
   ]
  },
  {
   "cell_type": "code",
   "execution_count": 17,
   "id": "9db9a27f",
   "metadata": {},
   "outputs": [
    {
     "name": "stdout",
     "output_type": "stream",
     "text": [
      "Accuracy: 1.0\n"
     ]
    }
   ],
   "source": [
    "model.fit(X,Y)\n",
    "\n",
    "y_pred = model.predict(X_test)\n",
    "accuracy = accuracy_score(y_test, y_pred)\n",
    "print(\"Accuracy:\", accuracy)\n"
   ]
  },
  {
   "cell_type": "code",
   "execution_count": 18,
   "id": "0ccda3f2",
   "metadata": {},
   "outputs": [
    {
     "name": "stdout",
     "output_type": "stream",
     "text": [
      "Accuracy: 1.0\n"
     ]
    }
   ],
   "source": [
    "knnmodel = KNeighborsClassifier(n_neighbors=3)\n",
    "knnmodel.fit(X,Y)\n",
    "knnmodpred=knnmodel.predict(X_test)\n",
    "accuracy = accuracy_score(y_test, knnmodpred)\n",
    "print(\"Accuracy:\", accuracy)"
   ]
  },
  {
   "cell_type": "code",
   "execution_count": 19,
   "id": "0c8fbd97",
   "metadata": {},
   "outputs": [
    {
     "name": "stdout",
     "output_type": "stream",
     "text": [
      "Accuracy: 1.0\n"
     ]
    }
   ],
   "source": [
    "lrmod = LogisticRegression()\n",
    "lrmod.fit(X, Y)\n",
    "lrmodpred = lrmod.predict(X_test)\n",
    "accuracy = accuracy_score(y_test, lrmodpred)\n",
    "print(\"Accuracy:\", accuracy)"
   ]
  },
  {
   "cell_type": "code",
   "execution_count": 20,
   "id": "51f0312d",
   "metadata": {},
   "outputs": [
    {
     "name": "stdout",
     "output_type": "stream",
     "text": [
      "Accuracy: 1.0\n"
     ]
    }
   ],
   "source": [
    "from sklearn.naive_bayes import GaussianNB\n",
    "gnb = GaussianNB()\n",
    "y_pred = gnb.fit(X, Y).predict(X_test)\n",
    "accuracy = accuracy_score(y_test, y_pred)\n",
    "print(\"Accuracy:\", accuracy)"
   ]
  },
  {
   "cell_type": "code",
   "execution_count": 21,
   "id": "f6cc5646",
   "metadata": {},
   "outputs": [
    {
     "name": "stdout",
     "output_type": "stream",
     "text": [
      "Accuracy: 1.0\n"
     ]
    }
   ],
   "source": [
    "from sklearn.discriminant_analysis import LinearDiscriminantAnalysis\n",
    "ldamodel = LinearDiscriminantAnalysis()\n",
    "ldamodel.fit(X, Y)\n",
    "ldamodpred=ldamodel.predict(X_test)\n",
    "LinearDiscriminantAnalysis()\n",
    "accuracy = accuracy_score(y_test, ldamodpred)\n",
    "print(\"Accuracy:\", accuracy)"
   ]
  },
  {
   "cell_type": "code",
   "execution_count": null,
   "id": "d71bb425",
   "metadata": {},
   "outputs": [],
   "source": []
  }
 ],
 "metadata": {
  "kernelspec": {
   "display_name": "Python 3 (ipykernel)",
   "language": "python",
   "name": "python3"
  },
  "language_info": {
   "codemirror_mode": {
    "name": "ipython",
    "version": 3
   },
   "file_extension": ".py",
   "mimetype": "text/x-python",
   "name": "python",
   "nbconvert_exporter": "python",
   "pygments_lexer": "ipython3",
   "version": "3.9.7"
  }
 },
 "nbformat": 4,
 "nbformat_minor": 5
}
